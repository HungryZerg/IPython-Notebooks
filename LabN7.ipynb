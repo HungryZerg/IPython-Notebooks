{
 "cells": [
  {
   "cell_type": "code",
   "execution_count": 2,
   "metadata": {
    "collapsed": false
   },
   "outputs": [],
   "source": [
    "%matplotlib inline\n",
    "import numpy as np\n",
    "import matplotlib.pyplot as plt"
   ]
  },
  {
   "cell_type": "markdown",
   "metadata": {},
   "source": [
    "### ааАаДаАбаА"
   ]
  },
  {
   "cell_type": "markdown",
   "metadata": {},
   "source": [
    "ааАаНаО  3  аНаЕбаЕбаКаИб  аМаНаОаЖаЕббаВаА  $A,  B,  C$  (аЗаАаДаАаНб  аИб  ббаНаКбаИаИ\n",
    "аПбаИаНаАаДаЛаЕаЖаНаОббаИ).  ааОбббаОаИбб  ббаНаКбаИб  аПбаИаНаАаДаЛаЕаЖаНаОббаИ  аНаЕбаЕбаКаОаГаО\n",
    "аМаНаОаЖаЕббаВаА $D = A \\cap B \\cup \\overline{C}$ аИ аОаПбаЕаДаЕаЛаИбб ббаЕаПаЕаНб аПбаИаНаАаДаЛаЕаЖаНаОббаИ аОаДаНаОаГаО\n",
    "баЛаЕаМаЕаНбаА аМаНаОаЖаЕббаВб $D$, аИбаПаОаЛбаЗбб аМаАаКбаИаМаИаНаНбаЙ баПаОбаОаБ."
   ]
  },
  {
   "cell_type": "code",
   "execution_count": 5,
   "metadata": {
    "collapsed": false
   },
   "outputs": [
    {
     "data": {
      "text/plain": [
       "[<matplotlib.lines.Line2D at 0x6700cb0>]"
      ]
     },
     "execution_count": 5,
     "metadata": {},
     "output_type": "execute_result"
    },
    {
     "data": {
      "image/png": "[encoded data removed]",
      "text/plain": [
       "<matplotlib.figure.Figure at 0x4446250>"
      ]
     },
     "metadata": {},
     "output_type": "display_data"
    }
   ],
   "source": [
    "fig, axs = plt.subplots(1,3, figsize=(18,4))\n",
    "axis_font = {'fontname':'Arial', 'size':'16'}\n",
    "axs[0].axis([0,15,0,1.5])\n",
    "axs[0].set_ylabel(\"$\\mu_A$\", **axis_font)\n",
    "axs[0].set_xlabel(\"X\")\n",
    "axs[0].set_xticks([0,3,5])\n",
    "axs[0].set_yticks([0,0.5, 1])\n",
    "axs[0].plot([0,3,5, 20], [0,0,1,1], 'r-',linewidth=2)\n",
    "\n",
    "axs[1].axis([0,15,0,1.5])\n",
    "axs[1].set_ylabel(\"$\\mu_B$\", **axis_font)\n",
    "axs[1].set_xlabel(\"X\")\n",
    "axs[1].set_xticks([0,3,5])\n",
    "axs[1].set_yticks([0, 0.5, 1])\n",
    "axs[1].plot([0,3,5, 20], [0,1,0,0], 'r-',linewidth=2)\n",
    "\n",
    "axs[2].axis([0,15,0,1.5])\n",
    "axs[2].set_ylabel(\"$\\mu_C$\", **axis_font)\n",
    "axs[2].set_xlabel(\"X\")\n",
    "axs[2].set_xticks([0,5])\n",
    "axs[2].set_yticks([0, 0.5, 1])\n",
    "axs[2].plot([0,5,20], [1,0,0], 'r-',linewidth=2)"
   ]
  },
  {
   "cell_type": "markdown",
   "metadata": {},
   "source": [
    "### ааПаИбаАаНаИаЕ аПбаОбаЕббаА  баЕбаЕаНаИб."
   ]
  },
  {
   "cell_type": "markdown",
   "metadata": {},
   "source": [
    "ааЛб  аПаОбббаОаЕаНаИб  ббаНаКбаИаИ\n",
    "аПбаИаНаАаДаЛаЕаЖаНаОббаИ аНаОаВаОаГаО аМаНаОаЖаЕббаВаА аНаЕаОаБбаОаДаИаМаО:\n",
    "1.  ааПбаЕаДаЕаЛаИбб аПаОбаЛаЕаДаОаВаАбаЕаЛбаНаОббб аВбаПаОаЛаНаЕаНаИб аОаПаЕбаАбаИаЙ аВ баОбаМбаЛаЕ.\n",
    "2. ааОбббаОаИбб  аНаА  аОбаДаЕаЛбаНбб  аГбаАбаИаКаАб  аПбаОаМаЕаЖббаОбаНбаЕ  аМаНаОаЖаЕббаВаА, баОаГаЛаАбаНаО  аОаПбаЕаДаЕаЛаЕаНаНаОаЙ  аПаОбаЛаЕаДаОаВаАбаЕаЛбаНаОббаИ  аДаЕаЙббаВаИаЙ. \n",
    "аЁаВаЕббаИ аПбаОаМаЕаЖббаОбаНбаЕ аМаНаОаЖаЕббаВаА аНаА аОаДаНаОаМ аГбаАбаИаКаЕ аИ аОаПбаЕаДаЕаЛаИбб аИбаОаГаОаВбб ббаНаКбаИб аПбаИаНаАаДаЛаЕаЖаНаОббаИ.\n",
    "3. абаПаОаЛбаЗбб аОаПбаЕаДаЕаЛаЕаНаНбаЙ аВ аЗаАаДаАбаЕ аМаЕбаОаД, аОаПбаЕаДаЕаЛаИбб аАаНаАаЛаИбаИбаЕбаКаИ ббаЕаПаЕаНб аПбаИаНаАаДаЛаЕаЖаНаОббаИ баЛаЕаМаЕаНбаА,\n",
    "аВбаОаДббаЕаГаО аВ баДбаО аИбаОаГаОаВаОаГаО аМаНаОаЖаЕббаВаА.\n",
    "4. абаОаВаЕбаИбб  аАаНаАаЛаИбаИбаЕбаКаИаЕ аВббаИбаЛаЕаНаИб аПаО аПаОбббаОаЕаНаНаОаМб аГбаАбаИаКб ббаНаКбаИаИ аПбаИаНаАаДаЛаЕаЖаНаОббаИ."
   ]
  },
  {
   "cell_type": "markdown",
   "metadata": {},
   "source": [
    "### а аЕбаЕаНаИаЕ."
   ]
  },
  {
   "cell_type": "markdown",
   "metadata": {},
   "source": [
    "- 1) ааНаОаЖаЕббаВаО $D = A \\cap B \\cup \\overline{C}$, аЗаНаАбаИб, аПаОбаЛаЕаДаОаВаАбаЕаЛбаНаОббб аОаПаЕбаАбаИаЙ аБбаДаЕб баЛаЕаДбббаЕаЙ:  $\\overline{C}$,  $A \\cap B$,  $A \\cap B \\cup \\overline{C}$.\n",
    "- 2) ааОбббаОаИаМ  баОаГаЛаАбаНаО  ббаОаЙ  аПаОбаЛаЕаДаОаВаАбаЕаЛбаНаОббаИ  аОаПаЕбаАбаИаЙ  аГбаАбаИаКаИ ббаНаКбаИаЙ аПбаИаНаАаДаЛаЕаЖаНаОббаИ:"
   ]
  },
  {
   "cell_type": "code",
   "execution_count": 9,
   "metadata": {
    "collapsed": false,
    "scrolled": true
   },
   "outputs": [
    {
     "data": {
      "text/plain": [
       "[<matplotlib.lines.Line2D at 0x6d2def0>]"
      ]
     },
     "execution_count": 9,
     "metadata": {},
     "output_type": "execute_result"
    },
    {
     "data": {
      "image/png": "[encoded data removed]",
      "text/plain": [
       "<matplotlib.figure.Figure at 0x6657f30>"
      ]
     },
     "metadata": {},
     "output_type": "display_data"
    }
   ],
   "source": [
    "fig, axs = plt.subplots(1,3, figsize=(18,4))\n",
    "\n",
    "axs[0].axis([0,15,0,1.5])\n",
    "axs[0].set_ylabel(\"$\\mu_{\\overline{C}}$\", **axis_font)\n",
    "axs[0].set_xlabel(\"X\")\n",
    "axs[0].set_xticks([0,3,5])\n",
    "axs[0].set_yticks([0, 0.5, 1])\n",
    "axs[0].plot([0,5,20], [0,1,1], 'r-',linewidth=2)\n",
    "\n",
    "axs[1].axis([0,15,0,1.5])\n",
    "axs[1].set_ylabel(\"$\\mu_{A \\cap B}$\", **axis_font)\n",
    "axs[1].set_xlabel(\"X\")\n",
    "axs[1].set_xticks([0,3,5])\n",
    "axs[1].set_yticks([0,0.5, 1])\n",
    "axs[1].plot([0,3,4,5, 20], [0,0,0.5,0,0], 'r-',linewidth=2)\n",
    "\n",
    "axs[2].axis([0,15,0,1.5])\n",
    "axs[2].set_ylabel(\"$\\mu_{A \\cap B \\cup \\overline{C}}$\", **axis_font)\n",
    "axs[2].set_xlabel(\"X\")\n",
    "axs[2].set_xticks([0,5])\n",
    "axs[2].set_yticks([0, 0.5, 1])\n",
    "axs[2].plot([0,5,20], [0,1,1], 'r-',linewidth=2)"
   ]
  },
  {
   "cell_type": "markdown",
   "metadata": {},
   "source": [
    "- 3) аЏаДбаО аМаНаОаЖаЕббаВаА $D$ баОббаОаИб аИаЗ баЛаЕаМаЕаНбаОаВ аИаЗ аИаНбаЕбаВаАаЛаА $(0,5)$. абаБаЕбаЕаМ баЛаЕаМаЕаНб $5$.\n",
    "\n",
    "$\\mu_A (5) = 1$\n",
    "\n",
    "$\\mu_B (5) = 0$\n",
    "\n",
    "$\\mu_C (5) = 0$\n",
    "\n",
    "$\\mu_\\overline{C}(5) = 1-\\mu_C(5) = 1-0 = 1$\n",
    "\n",
    "$\\mu_{A \\cap B}(5) = min(\\mu_A(5),\\mu_B(5)) = min(1,0) = 0$\n",
    "\n",
    "$\\mu_{A \\cap B \\cup \\overline{C}}(5) = max(\\mu_{A \\cap B}(5), \\mu_\\overline{C}(5)) = max(0,1) = 1$"
   ]
  },
  {
   "cell_type": "markdown",
   "metadata": {},
   "source": [
    "- 4) $\\mu_D (5) = 1$"
   ]
  },
  {
   "cell_type": "code",
   "execution_count": 14,
   "metadata": {
    "collapsed": false
   },
   "outputs": [
    {
     "data": {
      "text/plain": [
       "[<matplotlib.lines.Line2D at 0x721be50>]"
      ]
     },
     "execution_count": 14,
     "metadata": {},
     "output_type": "execute_result"
    },
    {
     "data": {
      "image/png": "[encoded data removed]",
      "text/plain": [
       "<matplotlib.figure.Figure at 0x700d910>"
      ]
     },
     "metadata": {},
     "output_type": "display_data"
    }
   ],
   "source": [
    "plt.figure(figsize=(6,4))\n",
    "plt.axis([0,15,0,1.5])\n",
    "plt.ylabel(\"$\\mu_D$\", **axis_font)\n",
    "plt.xlabel(\"X\")\n",
    "plt.xticks([0,5])\n",
    "plt.yticks([0, 0.5, 1])\n",
    "plt.plot([0,5],[1, 1], color='blue', ls='dashed')\n",
    "plt.plot([5,5],[0,1], color='blue', ls='dashed')\n",
    "plt.plot([0,5, 20], [0,1, 1], 'r-')"
   ]
  },
  {
   "cell_type": "code",
   "execution_count": null,
   "metadata": {
    "collapsed": false
   },
   "outputs": [],
   "source": []
  }
 ],
 "metadata": {
  "kernelspec": {
   "display_name": "Python 2",
   "language": "python",
   "name": "python2"
  },
  "language_info": {
   "codemirror_mode": {
    "name": "ipython",
    "version": 2
   },
   "file_extension": ".py",
   "mimetype": "text/x-python",
   "name": "python",
   "nbconvert_exporter": "python",
   "pygments_lexer": "ipython2",
   "version": "2.7.10"
  }
 },
 "nbformat": 4,
 "nbformat_minor": 0
}
